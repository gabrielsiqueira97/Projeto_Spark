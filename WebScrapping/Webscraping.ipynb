{
 "cells": [
  {
   "cell_type": "code",
   "execution_count": 76,
   "metadata": {},
   "outputs": [],
   "source": [
    "import os\n",
    "import shutil\n",
    "import time\n",
    "import zipfile\n",
    "from selenium import webdriver\n",
    "from selenium.webdriver.chrome.service import Service\n",
    "from webdriver_manager.chrome import ChromeDriverManager\n",
    "from selenium.webdriver.common.by import By\n",
    "from selenium.webdriver.support.ui import WebDriverWait\n",
    "from selenium.webdriver.support import expected_conditions as EC\n",
    "\n",
    "# Módulos e suas descrições:\n",
    "\n",
    "# import os\n",
    "# Descrição: Este módulo fornece uma maneira de interagir com o sistema operacional.\n",
    "# Permite realizar operações como manipulação de arquivos e diretórios, obtenção de informações\n",
    "# sobre o sistema, e execução de comandos do sistema.\n",
    "\n",
    "# import shutil\n",
    "# Descrição: O módulo shutil oferece várias operações de alta camada para manipulação de arquivos\n",
    "# e diretórios. É utilizado para copiar, mover, renomear e excluir arquivos e diretórios, além\n",
    "# de permitir a criação de arquivos zip.\n",
    "\n",
    "# import time\n",
    "# Descrição: Este módulo fornece funções para manipulação do tempo.\n",
    "# Inclui funcionalidades como pausar a execução do programa (time.sleep()),\n",
    "# obter o tempo atual, e medir a duração de eventos.\n",
    "\n",
    "# import zipfile\n",
    "# Descrição: O módulo zipfile permite criar, ler, escrever, e extrair arquivos ZIP.\n",
    "# É útil para manipular arquivos compactados em formato ZIP diretamente do Python.\n",
    "\n",
    "# from selenium import webdriver\n",
    "# Descrição: O webdriver é a interface principal do Selenium para automatizar navegadores.\n",
    "# Permite abrir e controlar navegadores, interagir com elementos da página, e executar scripts JavaScript.\n",
    "\n",
    "# from selenium.webdriver.chrome.service import Service\n",
    "# Descrição: Este módulo fornece uma maneira de iniciar o serviço do ChromeDriver,\n",
    "# que é necessário para controlar o navegador Google Chrome com o Selenium.\n",
    "\n",
    "# from webdriver_manager.chrome import ChromeDriverManager\n",
    "# Descrição: O webdriver_manager é uma biblioteca que facilita o gerenciamento do ChromeDriver.\n",
    "# Ele automaticamente baixa e configura a versão correta do ChromeDriver de acordo com a\n",
    "# versão do navegador Chrome instalada, evitando problemas de compatibilidade.\n",
    "\n",
    "# from selenium.webdriver.common.by import By\n",
    "# Descrição: O By é uma classe que contém métodos de localização de elementos na página web,\n",
    "# como By.XPATH, By.ID, By.CSS_SELECTOR, entre outros. É usado para especificar como\n",
    "# encontrar elementos durante a automação.\n",
    "\n",
    "# from selenium.webdriver.support.ui import WebDriverWait\n",
    "# Descrição: O WebDriverWait é uma classe que implementa espera explícita.\n",
    "# Permite esperar até que uma condição específica seja atendida (como um elemento se tornar\n",
    "# clicável ou visível) antes de prosseguir com a execução do código.\n",
    "\n",
    "# from selenium.webdriver.support import expected_conditions as EC\n",
    "# Descrição: O módulo expected_conditions fornece várias condições pré-definidas\n",
    "# que podem ser usadas com WebDriverWait. Isso facilita a verificação de estados\n",
    "# específicos de elementos, como estar presente no DOM, visível, ou clicável."
   ]
  },
  {
   "cell_type": "code",
   "execution_count": 77,
   "metadata": {},
   "outputs": [],
   "source": [
    "# Criação do driver\n",
    "service = Service(ChromeDriverManager().install())\n",
    "driver = webdriver.Chrome(service=service)\n",
    "\n",
    "# Abrindo a página\n",
    "driver.get('https://www.saopaulo.sp.gov.br/planosp/simi/dados-abertos/')\n"
   ]
  },
  {
   "cell_type": "code",
   "execution_count": 78,
   "metadata": {},
   "outputs": [],
   "source": [
    "##1-Baixando arquivos de Casos de obitos por municipio e data\n",
    "##Registro de casos e óbitos por município e data de notificação no Estado de São Paulo\n",
    "\n",
    "wait = WebDriverWait(driver, 10) #aguardar a abertura do navegador e pagina web\n",
    "driver.find_element(By.XPATH, '/html/body/section[4]/div/div/article[1]/h3/span').click()\n",
    "time.sleep(1)#forçando a espera de 1seg \n",
    "driver.find_element(By.XPATH,'/html/body/section[4]/div/div/article[1]/div/ul/li[1]/div/a/span[2]').click()\n",
    "\n"
   ]
  },
  {
   "cell_type": "code",
   "execution_count": 79,
   "metadata": {},
   "outputs": [],
   "source": [
    "##2-Baixando Microdados dos casos\n",
    "##Base de dados com registros individualizados e anonimizados, detalhados com os seguintes campos: Notificações, Evolução, Confirmação do caso para COVID-19, Idade, Gênero, Doenças Preexistentes, Sintomas, Raça/Cor, Etnia, Município, Profissionais de Saúde\n",
    "\n",
    "driver.find_element(By.XPATH, '/html/body/section[4]/div/div/article[2]/h3').click()\n",
    "time.sleep(1)\n",
    "driver.find_element(By.XPATH, '/html/body/section[4]/div/div/article[2]/div/ul/li[1]/div/a/span[1]').click()"
   ]
  },
  {
   "cell_type": "code",
   "execution_count": 80,
   "metadata": {},
   "outputs": [],
   "source": [
    "##3-Baixando Pacientes internados por SRAG\n",
    "##Base de dados com registros individualizados e anonimizados de pacientes internados por síndrome respiratória aguda grave (SRAG) em 2020, considerando casos COVID-19 e não COVID-19, detalhados com os seguintes campos: Notificações, Evolução, Faixa Etária, Sexo, Raça/Cor.\n",
    "driver.find_element(By.XPATH, '/html/body/section[4]/div/div/article[5]/h3').click()\n",
    "time.sleep(1)\n",
    "driver.find_element(By.XPATH, '/html/body/section[4]/div/div/article[5]/div/ul/li[1]/div/a/span[1]').click()"
   ]
  },
  {
   "cell_type": "code",
   "execution_count": 81,
   "metadata": {},
   "outputs": [],
   "source": [
    "##4-Baixando Pacientes SRAG por distrito de residencia de São Paulo\n",
    "##Base de dados com total de casos e óbitos de síndrome respiratória aguda grave (SRAG), considerando casos COVID-19 e não COVID-19, por distrito do município de São Paulo, contemplando também métricas populacionais por distrito (população total, densidade demográfica, média de pessoas por domicílio).\n",
    "driver.find_element(By.XPATH, '/html/body/section[4]/div/div/article[6]/h3').click()\n",
    "time.sleep(1)\n",
    "driver.find_element(By.XPATH, '/html/body/section[4]/div/div/article[6]/div/ul/li/div/a/span[1]').click()"
   ]
  },
  {
   "cell_type": "code",
   "execution_count": 82,
   "metadata": {},
   "outputs": [],
   "source": [
    "##5-Leitos COVID19 Públicos ocupados\n",
    "# Registro de leitos COVID-19 ocupados em hospitais da rede pública do estado de São Paulo, de acordo com informações fornecidas pelos hospitais à Secretaria de Saúde via Censo COVID-19\n",
    "driver.find_element(By.XPATH, '/html/body/section[4]/div/div/article[8]/h3').click()\n",
    "time.sleep(1)\n",
    "driver.find_element(By.XPATH, '/html/body/section[4]/div/div/article[8]/div/ul/li[1]/div/a/span[1]').click()"
   ]
  },
  {
   "cell_type": "code",
   "execution_count": 83,
   "metadata": {},
   "outputs": [],
   "source": [
    "##6-Leitos e Internações por diretoria regional de saúde\n",
    "# Registro de leitos destinados a COVID-19 e internações (por COVID-19 ou suspeita de COVID-19) por Departamento Regional de Saúde desde o dia 18 de junho segundo os critérios utilizados no Plano SP.\n",
    "driver.find_element(By.XPATH, '/html/body/section[4]/div/div/article[7]/h3').click()\n",
    "time.sleep(1)\n",
    "driver.find_element(By.XPATH, '/html/body/section[4]/div/div/article[7]/div/ul/li[1]/div/a/span[1]').click()"
   ]
  },
  {
   "cell_type": "code",
   "execution_count": 84,
   "metadata": {},
   "outputs": [],
   "source": [
    "##7-Capacidade de testagem\n",
    "#Capacidade nominal diária de processamento de testes RT-PCR pelos laboratórios que integram a rede pública de testagem do Estado de São Paulo.\n",
    "driver.find_element(By.XPATH, '/html/body/section[4]/div/div/article[13]/h3').click()\n",
    "time.sleep(1)\n",
    "driver.find_element(By.XPATH, '/html/body/section[4]/div/div/article[13]/div/ul/li/div/a/span[1]').click()"
   ]
  },
  {
   "cell_type": "code",
   "execution_count": 85,
   "metadata": {},
   "outputs": [],
   "source": [
    "##8-Indice de isolamento Social\n",
    "#O índice de isolamento é atualizado diariamente, sempre mostrando os valores referentes ao dia anterior. Para saber mais, clique aqui.\n",
    "driver.find_element(By.XPATH, '/html/body/section[4]/div/div/article[14]/h3').click()\n",
    "time.sleep(1)\n",
    "driver.find_element(By.XPATH, '/html/body/section[4]/div/div/article[14]/div/ul/li/div/a/span[1]').click()"
   ]
  },
  {
   "cell_type": "code",
   "execution_count": 86,
   "metadata": {},
   "outputs": [],
   "source": [
    "# Setando Diretórios\n",
    "downloads_dir = r'C:\\Users\\DRT52918\\Downloads'\n",
    "target_dir = r'C:\\Users\\DRT52918\\Desktop\\Projeto P\\Origem dos dados'\n",
    "\n",
    "# Tempo limite de 10 minutos em segundos\n",
    "time_limit = 10 * 60\n",
    "\n",
    "# Obter o tempo atual\n",
    "current_time = time.time()"
   ]
  },
  {
   "cell_type": "code",
   "execution_count": 88,
   "metadata": {},
   "outputs": [
    {
     "name": "stdout",
     "output_type": "stream",
     "text": [
      "Movido: 20220211_isolamento.csv\n",
      "Movido: 20240120_Casos_e_obitos_ESP (1).zip\n",
      "Movido: 20240120_Casos_e_obitos_ESP.zip\n",
      "Movido: 20240121_Casos_SRAG_por_distrito_de_SP (1).csv\n",
      "Movido: 20240121_Casos_SRAG_por_distrito_de_SP.csv\n",
      "Movido: 20240121_dados_covid_municipios_sp-1.zip\n",
      "Movido: 20240121_leitos_internacoes-1.zip\n",
      "Movido: 20240121_leitos_ocupados_por_unidade_hospitalar-1.zip\n",
      "Movido: 20240121_SRAG-1 (1).zip\n",
      "Movido: 20240121_SRAG-1.zip\n",
      "Transferência concluída.\n"
     ]
    }
   ],
   "source": [
    "time.sleep(15) #forçando a espera de 15 seg, para dar tempo de fazer os downloads\n",
    "# Transferir arquivos da pasta Downloads\n",
    "for filename in os.listdir(downloads_dir):               \n",
    "    file_path = os.path.join(downloads_dir, filename)   #lê a lista de arquivos na pasata downloads\n",
    "    \n",
    "    # Verificar se é um arquivo(if isfile) e se foi criado/modificado  (if current time - file mod time (que vem do getmtime(file_path))) nos últimos 10 minutos\n",
    "    if os.path.isfile(file_path):\n",
    "        file_mod_time = os.path.getmtime(file_path)\n",
    "        if current_time - file_mod_time < time_limit:\n",
    "            # Mover o arquivo para o diretório de destino\n",
    "            shutil.move(file_path, target_dir)\n",
    "            print(f'Movido: {filename}')\n",
    "\n",
    "print('Transferência concluída.')"
   ]
  },
  {
   "cell_type": "code",
   "execution_count": 89,
   "metadata": {},
   "outputs": [
    {
     "name": "stdout",
     "output_type": "stream",
     "text": [
      "Movido para raiz: 20240120_Casos_e_obitos_ESP.csv\n",
      "Extraído: 20240120_Casos_e_obitos_ESP (1).zip\n",
      "Deletado: 20240120_Casos_e_obitos_ESP (1).zip\n",
      "Movido para raiz: 20240120_Casos_e_obitos_ESP.csv\n",
      "Extraído: 20240120_Casos_e_obitos_ESP.zip\n",
      "Deletado: 20240120_Casos_e_obitos_ESP.zip\n",
      "Movido para raiz: 20240121_dados_covid_municipios_sp.csv\n",
      "Extraído: 20240121_dados_covid_municipios_sp-1.zip\n",
      "Deletado: 20240121_dados_covid_municipios_sp-1.zip\n",
      "Movido para raiz: 20240121_leitos_internacoes.csv\n",
      "Extraído: 20240121_leitos_internacoes-1.zip\n",
      "Deletado: 20240121_leitos_internacoes-1.zip\n",
      "Movido para raiz: 20240121_leitos_ocupados_por_unidade_hospitalar.csv\n",
      "Extraído: 20240121_leitos_ocupados_por_unidade_hospitalar-1.zip\n",
      "Deletado: 20240121_leitos_ocupados_por_unidade_hospitalar-1.zip\n",
      "Movido para raiz: 20240121_SRAG.csv\n",
      "Extraído: 20240121_SRAG-1 (1).zip\n",
      "Deletado: 20240121_SRAG-1 (1).zip\n",
      "Movido para raiz: 20240121_SRAG.csv\n",
      "Extraído: 20240121_SRAG-1.zip\n",
      "Deletado: 20240121_SRAG-1.zip\n",
      "Extração e deleção concluídas.\n"
     ]
    }
   ],
   "source": [
    "# Função para extrair arquivos .zip e deletar a estrutura de diretórios que podem ser criadas após extração\n",
    "# alguns .zip vieram com os .csv dentro de pastas tmp que eu não queria manter no diretorio\n",
    "def extract_zip_flat(zip_path, extract_to):\n",
    "    with zipfile.ZipFile(zip_path, 'r') as zip_ref:\n",
    "        for member in zip_ref.namelist():\n",
    "            # Extrair apenas o nome do arquivo (sem diretórios)\n",
    "            zip_ref.extract(member, extract_to)\n",
    "            extracted_file_path = os.path.join(extract_to, member)\n",
    "            # Mover o arquivo extraído para o diretório raiz, se houver subdiretórios\n",
    "            if os.path.dirname(extracted_file_path):\n",
    "                # Mover para o diretório alvo e renomear, se necessário\n",
    "                shutil.move(extracted_file_path, os.path.join(extract_to, os.path.basename(member)))\n",
    "                print(f'Movido para raiz: {os.path.basename(member)}')\n",
    "\n",
    "\n",
    "# Extração e deleção de arquivos .zip\n",
    "for filename in os.listdir(target_dir):\n",
    "    file_path = os.path.join(target_dir, filename)\n",
    "    \n",
    "    # Verificar se é um arquivo .zip\n",
    "    if filename.endswith('.zip') and os.path.isfile(file_path):\n",
    "        extract_zip_flat(file_path, target_dir)\n",
    "        print(f'Extraído: {filename}')\n",
    "\n",
    "        # Deletar o arquivo .zip após a extração\n",
    "        os.remove(file_path)\n",
    "        print(f'Deletado: {filename}')\n",
    "\n",
    "print('Extração e deleção concluídas.')"
   ]
  },
  {
   "cell_type": "code",
   "execution_count": 90,
   "metadata": {},
   "outputs": [
    {
     "name": "stdout",
     "output_type": "stream",
     "text": [
      "Deletado diretório: tmp\n"
     ]
    }
   ],
   "source": [
    "#Deletando diretorios gerados na extração dos .zip\n",
    "# Diretório \n",
    "target_dir = r'C:\\Users\\DRT52918\\Desktop\\Projeto P\\Origem dos dados'\n",
    "\n",
    "# Função para remover todas as pastas dentro do diretório, mantendo os arquivos .csv\n",
    "def clear_directories_except_csv(directory):\n",
    "    for filename in os.listdir(directory):\n",
    "        file_path = os.path.join(directory, filename)\n",
    "        try:\n",
    "            if os.path.isdir(file_path):\n",
    "                shutil.rmtree(file_path)\n",
    "                print(f'Deletado diretório: {filename}')\n",
    "        except Exception as e:\n",
    "            print(f'Erro ao deletar {file_path}: {e}')\n",
    "\n",
    "# Chamar a função\n",
    "clear_directories_except_csv(target_dir)"
   ]
  }
 ],
 "metadata": {
  "kernelspec": {
   "display_name": "base",
   "language": "python",
   "name": "python3"
  },
  "language_info": {
   "codemirror_mode": {
    "name": "ipython",
    "version": 3
   },
   "file_extension": ".py",
   "mimetype": "text/x-python",
   "name": "python",
   "nbconvert_exporter": "python",
   "pygments_lexer": "ipython3",
   "version": "3.8.5"
  }
 },
 "nbformat": 4,
 "nbformat_minor": 2
}
