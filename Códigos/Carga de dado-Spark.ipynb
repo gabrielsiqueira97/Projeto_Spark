{
 "cells": [
  {
   "cell_type": "code",
   "execution_count": 4,
   "metadata": {},
   "outputs": [],
   "source": [
    "import os\n",
    "import pyodbc\n",
    "import pandas as pd\n",
    "from trinodb import TrinoEngine\n",
    "\n",
    "pd.set_option('display.max_columns', None)  # Exibir todas as colunas\n",
    "pd.set_option('display.width', 1000)        # Ajustar a largura da saída\n",
    "\n"
   ]
  },
  {
   "cell_type": "code",
   "execution_count": 1,
   "metadata": {},
   "outputs": [],
   "source": [
    "\n",
    "trino = TrinoEngine(environment=\"prd\")\n",
    "with trino.connect():\n",
    "    df=trino.read_sql(\"SELECT * from hive.sandbox_gov_sb_coe_data_coach.teste\")\n",
    "    print(df.head())"
   ]
  },
  {
   "cell_type": "code",
   "execution_count": 19,
   "metadata": {},
   "outputs": [],
   "source": [
    "# Conexão ao SQL Server usando pyodbc para criar as tabelas no WPVDB25\n",
    "string_de_conexao = (\n",
    "    r'DRIVER={ODBC Driver 17 for SQL Server};'\n",
    "    r'SERVER=wpvdb25;'\n",
    "    r'DATABASE=COE_datacoach;'\n",
    "    r'Trusted_Connection=yes;'\n",
    ")"
   ]
  },
  {
   "cell_type": "code",
   "execution_count": null,
   "metadata": {},
   "outputs": [],
   "source": [
    "# Criando tabela STG_CASOS_OBITOS\n",
    "\n",
    "conn = pyodbc.connect(string_de_conexao)\n",
    "cursor = conn.cursor()  ##O cursor é uma ferramenta que permite interagir com o banco de dados.\n",
    "\n",
    "# Criação da tabela STG_CASOS_OBITOS\n",
    "raw_casos_obitos = \"\"\"\n",
    "CREATE TABLE dbo.RAW_CASOS_OBITOS (\n",
    "    Asma VARCHAR(255),\n",
    "    Cardiopatia VARCHAR(255),\n",
    "    Data_Inicio_Sintomas VARCHAR(255),\n",
    "    Diabetes VARCHAR(255),\n",
    "    Diagnostico_Covid19 VARCHAR(255),\n",
    "    Doenca_Hematologica VARCHAR(255),\n",
    "    Doenca_Hepatica VARCHAR(255),\n",
    "    Doenca_Neurologica VARCHAR(255),\n",
    "    Doenca_Renal VARCHAR(255),\n",
    "    Genero VARCHAR(255),\n",
    "    Idade VARCHAR(255),\n",
    "    Imunodepressao VARCHAR(255),\n",
    "    Municipio VARCHAR(255),\n",
    "    Obesidade VARCHAR(255),\n",
    "    Obito VARCHAR(255),\n",
    "    Outros_Fatores_De_Risco VARCHAR(255),\n",
    "    Pneumopatia VARCHAR(255),\n",
    "    Puerpera VARCHAR(255),\n",
    "    Sindrome_De_Down VARCHAR(255)\n",
    ")\n",
    "\"\"\"\n",
    "\n",
    "\n",
    "\n",
    "# Criação da tabela RAW_CAPACIDADE_TESTAGEM\n",
    "raw_capacidade_testagem = \"\"\"\n",
    "CREATE TABLE dbo.RAW_CAPACIDADE_TESTAGEM (\n",
    "    Laboratorio VARCHAR(255),\n",
    "    Capacidade_Nominal VARCHAR(255)\n",
    "   \n",
    ")\n",
    "\"\"\"\n",
    "\n",
    "# Criação da tabela RAW_INDICE_ISOLAMENTO\n",
    "raw_indice_isolamento = \"\"\"\n",
    "CREATE TABLE dbo.RAW_INDICE_ISOLAMENTO (\n",
    "    Laboratorio VARCHAR(255),\n",
    "    Município  VARCHAR(255),\n",
    "    Codigo_Municipio VARCHAR(255),\n",
    "    IBGE  VARCHAR(255),\n",
    "    População_estimada_2020 VARCHAR(255),\n",
    "    UF VARCHAR(255),\n",
    "    Data VARCHAR(255),\n",
    "    Media_indice_Isolamento VARCHAR(255)\n",
    "   \n",
    ")\n",
    "\"\"\"\n",
    "\n",
    "# Criação da tabela RAW_INDICE_ISOLAMENTO\n",
    "raw_casos_srag = \"\"\"\n",
    "CREATE TABLE dbo.RAW_CASOS_SRAG_DISTRITO (\n",
    "   distrito  VARCHAR(255),\n",
    "   total_casos_srag VARCHAR(255),\n",
    "   total_casos_srag_1mil_hab  VARCHAR(255),\n",
    "   total_obitos VARCHAR(255),\n",
    "   total_obitos_srag_1mil_hab VARCHAR(255),\n",
    "   densidade_pop_km2 VARCHAR(255)\n",
    "   \n",
    ")\n",
    "\"\"\"\n",
    "\n",
    "# Executando o comando de criação da tabela\n",
    "cursor.execute(raw_casos_obitos)\n",
    "cursor.execute(raw_capacidade_testagem)\n",
    "cursor.execute(raw_indice_isolamento) \n",
    "conn.commit()\n",
    "\n",
    "# Fechando a conexão\n",
    "cursor.close()\n",
    "conn.close()"
   ]
  },
  {
   "cell_type": "code",
   "execution_count": 7,
   "metadata": {},
   "outputs": [],
   "source": [
    "#Lendo dados de casos de obito\n",
    "# \n",
    "df_casos_obito = pd.read_csv(\"C:/Users/DRT52918/Desktop/Projeto P/Origem dos dados/20240120_Casos_e_obitos_ESP.csv\",sep=';')\n",
    "print(df_casos_obito)"
   ]
  },
  {
   "cell_type": "code",
   "execution_count": null,
   "metadata": {},
   "outputs": [],
   "source": [
    "#Lendo dados de capacidade de testagem\n",
    "# \n",
    "\n",
    "df_capacidade_testagem = pd.read_excel(\"C:/Users/DRT52918/Desktop/Projeto P/Origem dos dados/20210910_Capacidade-de-testagem.xlsx\",skiprows=6)\n",
    "df_capacidade_testagem = df_capacidade_testagem.iloc[:, 1:]  # Removendo primeira Coluna (Vazia)\n",
    "df_capacidade_testagem = df_capacidade_testagem[:-1]  # Removendo a linha de total (ultima)\n",
    "\n",
    "print(df_capacidade_testagem)"
   ]
  },
  {
   "cell_type": "code",
   "execution_count": null,
   "metadata": {},
   "outputs": [],
   "source": [
    "#Lendo dados de Isolamento\n",
    "# \n",
    "df_isolamento = pd.read_csv(\"C:/Users/DRT52918/Desktop/Projeto P/Origem dos dados/20220211_isolamento.csv\",sep=';')\n",
    "print(df_isolamento)"
   ]
  },
  {
   "cell_type": "code",
   "execution_count": null,
   "metadata": {},
   "outputs": [],
   "source": [
    "#Lendo dados de Casos SRAG por distrito de SP\n",
    "# \n",
    "df_casos_srag_distrito = pd.read_csv(\"C:/Users/DRT52918/Desktop/Projeto P/Origem dos dados/20240121_Casos_SRAG_por_distrito_de_SP.csv\",sep=';')\n",
    "print(df_casos_srag_distrito)"
   ]
  },
  {
   "cell_type": "code",
   "execution_count": null,
   "metadata": {},
   "outputs": [],
   "source": [
    "#Lendo dados de COVID por municipios de SP\n",
    "# \n",
    "df_covid_municipio = pd.read_csv(\"C:/Users/DRT52918/Desktop/Projeto P/Origem dos dados/20240121_dados_covid_municipios_sp.csv\",sep=';')\n",
    "print(df_covid_municipio)"
   ]
  },
  {
   "cell_type": "code",
   "execution_count": null,
   "metadata": {},
   "outputs": [],
   "source": [
    "#Lendo dados de leitos internações\n",
    "# \n",
    "df_leitos_internacoes = pd.read_csv(\"C:/Users/DRT52918/Desktop/Projeto P/Origem dos dados/20240121_leitos_internacoes.csv\",sep=';')\n",
    "print(df_leitos_internacoes)"
   ]
  },
  {
   "cell_type": "code",
   "execution_count": null,
   "metadata": {},
   "outputs": [],
   "source": [
    "#Lendo dados de leitos ocupados por unidade hospitalar\n",
    "# \n",
    "df_leitos_ocupados_hospital = pd.read_csv(\"C:/Users/DRT52918/Desktop/Projeto P/Origem dos dados/20240121_leitos_ocupados_por_unidade_hospitalar.csv\",sep=';')\n",
    "print(df_leitos_ocupados_hospital)"
   ]
  },
  {
   "cell_type": "code",
   "execution_count": null,
   "metadata": {},
   "outputs": [],
   "source": [
    "#Lendo dados de SRAG\n",
    "# \n",
    "df_srag = pd.read_csv(\"C:/Users/DRT52918/Desktop/Projeto P/Origem dos dados/20240121_SRAG.csv\",sep=';')\n",
    "print(df_srag)"
   ]
  },
  {
   "cell_type": "code",
   "execution_count": null,
   "metadata": {},
   "outputs": [],
   "source": [
    "# Configurando a URL de conexão com autenticação do Windows\n",
    "url = \"jdbc:sqlserver://wpvdb25;databaseName=COE_datacoach;integratedSecurity=true\"\n",
    "\n",
    "# Inserindo dados na tabela\n",
    "df_casos_obito.write \\\n",
    "    .format(\"jdbc\") \\\n",
    "    .option(\"url\", url) \\\n",
    "    .option(\"dbtable\", \"dbo.STG_CASOS_OBITOS\") \\\n",
    "    .option(\"driver\", \"com.microsoft.sqlserver.jdbc.SQLServerDriver\") \\\n",
    "    .mode(\"append\") \\\n",
    "    .save()\n",
    "\n",
    "# Encerrando a sessão do Spark\n",
    "spark.stop()"
   ]
  }
 ],
 "metadata": {
  "kernelspec": {
   "display_name": "python_3_10",
   "language": "python",
   "name": "python3"
  },
  "language_info": {
   "codemirror_mode": {
    "name": "ipython",
    "version": 3
   },
   "file_extension": ".py",
   "mimetype": "text/x-python",
   "name": "python",
   "nbconvert_exporter": "python",
   "pygments_lexer": "ipython3",
   "version": "3.10.15"
  }
 },
 "nbformat": 4,
 "nbformat_minor": 2
}
